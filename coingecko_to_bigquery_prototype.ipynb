{
  "nbformat": 4,
  "nbformat_minor": 0,
  "metadata": {
    "colab": {
      "provenance": []
    },
    "kernelspec": {
      "name": "python3",
      "display_name": "Python 3"
    },
    "language_info": {
      "name": "python"
    }
  },
  "cells": [
    {
      "cell_type": "code",
      "execution_count": null,
      "metadata": {
        "id": "Zsh441hgAPQ9"
      },
      "outputs": [],
      "source": [
        "!pip install --quiet google-cloud-bigquery pandas requests\n",
        "from google.colab import auth\n",
        "auth.authenticate_user()\n",
        "\n",
        "from google.cloud import bigquery\n",
        "import pandas as pd, requests\n",
        "from datetime import datetime\n"
      ]
    },
    {
      "cell_type": "code",
      "source": [
        "project_id = \"worldbank-data-474912\"\n",
        "raw_dataset = \"crypto_raw\"\n",
        "clean_dataset = \"crypto_clean\"\n",
        "table_name = \"coingecko_data\"\n",
        "bq_client = bigquery.Client(project=project_id)\n",
        "\n",
        "\n",
        "for ds in [raw_dataset, clean_dataset]:\n",
        "    bq_client.create_dataset(ds, exists_ok=True)\n",
        "    print(f\"Dataset ready: {project_id}.{ds}\")\n"
      ],
      "metadata": {
        "id": "f5iPoRjhAiu3"
      },
      "execution_count": null,
      "outputs": []
    },
    {
      "cell_type": "code",
      "source": [
        "import requests\n",
        "import pandas as pd\n",
        "from datetime import datetime\n",
        "import time\n",
        "\n",
        "def fetch_coingecko_data(pages=5, per_page=250, delay=2):\n",
        "    all_data = []\n",
        "    for page in range(1, pages + 1):\n",
        "        url = \"https://api.coingecko.com/api/v3/coins/markets\"\n",
        "        params = {\n",
        "            \"vs_currency\": \"usd\",\n",
        "            \"order\": \"market_cap_desc\",\n",
        "            \"per_page\": per_page,\n",
        "            \"page\": page,\n",
        "            \"sparkline\": False\n",
        "        }\n",
        "        resp = requests.get(url, params=params, timeout=30)\n",
        "        resp.raise_for_status()\n",
        "        print(f\"Fetched page {page} with {len(resp.json())} rows\")\n",
        "        all_data.extend(resp.json())\n",
        "\n",
        "\n",
        "        time.sleep(delay)\n",
        "\n",
        "    df = pd.DataFrame(all_data)\n",
        "    df[\"fetch_time\"] = datetime.utcnow().isoformat()\n",
        "    print(f\"Total rows fetched: {len(df)}\")\n",
        "    return df\n",
        "\n",
        "df_raw = fetch_coingecko_data(pages=5, delay=2)\n",
        "df_raw.shape\n"
      ],
      "metadata": {
        "id": "HLfEhTr-A26V"
      },
      "execution_count": null,
      "outputs": []
    },
    {
      "cell_type": "code",
      "source": [
        "table_id = f\"{project_id}.{raw_dataset}.{table_name}\"\n",
        "\n",
        "job_config = bigquery.LoadJobConfig(\n",
        "    write_disposition=bigquery.WriteDisposition.WRITE_APPEND,\n",
        ")\n",
        "\n",
        "job = bq_client.load_table_from_dataframe(df_raw, table_id, job_config=job_config)\n",
        "job.result()\n",
        "\n",
        "print(f\"Loaded {len(df_raw)} rows into {table_id}\")\n"
      ],
      "metadata": {
        "id": "rqUzLghIBP78"
      },
      "execution_count": null,
      "outputs": []
    },
    {
      "cell_type": "code",
      "source": [
        "clean_table_id = f\"{project_id}.{clean_dataset}.{table_name}\"\n",
        "\n",
        "query = f\"\"\"\n",
        "CREATE OR REPLACE TABLE `{clean_table_id}` AS\n",
        "SELECT\n",
        "  id,\n",
        "  symbol,\n",
        "  name,\n",
        "  current_price,\n",
        "  market_cap,\n",
        "  total_volume,\n",
        "  high_24h,\n",
        "  low_24h,\n",
        "  price_change_percentage_24h,\n",
        "  last_updated,\n",
        "  fetch_time\n",
        "FROM `{table_id}`\n",
        "WHERE current_price IS NOT NULL\n",
        "\"\"\"\n",
        "bq_client.query(query).result()\n",
        "print(f\"Created clean table: {clean_table_id}\")\n"
      ],
      "metadata": {
        "id": "_3Owyd02Bjt0"
      },
      "execution_count": null,
      "outputs": []
    },
    {
      "cell_type": "code",
      "source": [
        "query = f\"SELECT COUNT(*) AS total_rows FROM `{clean_table_id}`\"\n",
        "bq_client.query(query).to_dataframe()\n"
      ],
      "metadata": {
        "id": "aP5W2KjMFRmb"
      },
      "execution_count": null,
      "outputs": []
    },
    {
      "cell_type": "code",
      "source": [
        "from google.cloud import storage\n",
        "\n",
        "project_id = \"worldbank-data-474912\"\n",
        "\n",
        "storage_client = storage.Client(project=project_id)\n",
        "\n",
        "\n",
        "bucket_name = \"worldbank-data-bucket-12345\"\n",
        "\n",
        "bucket = storage_client.create_bucket(bucket_name)\n",
        "print(f\"Bucket {bucket_name} created successfully in project {project_id}!\")\n"
      ],
      "metadata": {
        "id": "OIE_ozBBFWYD"
      },
      "execution_count": null,
      "outputs": []
    },
    {
      "cell_type": "code",
      "source": [
        "from google.cloud import storage\n",
        "\n",
        "bucket = storage_client.get_bucket(bucket_name)\n",
        "\n",
        "local_file = \"worldbank_data.csv\"\n",
        "blob = bucket.blob(\"worldbank_data.csv\")\n",
        "\n",
        "\n",
        "blob.upload_from_filename(local_file)\n",
        "\n",
        "print(f\"File {local_file} uploaded to bucket {bucket_name} successfully!\")\n"
      ],
      "metadata": {
        "id": "VbuoppJHFYrl"
      },
      "execution_count": null,
      "outputs": []
    },
    {
      "cell_type": "code",
      "source": [
        "from google.cloud import bigquery\n",
        "\n",
        "bq_client = bigquery.Client(project=project_id)\n",
        "\n",
        "dataset_id = \"worldbank_dataset\"\n",
        "dataset_ref = bigquery.Dataset(f\"{project_id}.{dataset_id}\")\n",
        "\n",
        "dataset = bq_client.create_dataset(dataset_ref, exists_ok=True)\n",
        "print(f\"Dataset {dataset_id} created successfully!\")\n"
      ],
      "metadata": {
        "id": "D9VMN1tGHfQR"
      },
      "execution_count": null,
      "outputs": []
    },
    {
      "cell_type": "code",
      "source": [
        "\n",
        "table_id = f\"{project_id}.{dataset_id}.gdp_data\"\n",
        "\n",
        "file_path = \"worldbank_data.csv\"\n",
        "\n",
        "job_config = bigquery.LoadJobConfig(\n",
        "    source_format=bigquery.SourceFormat.CSV,\n",
        "    skip_leading_rows=1,\n",
        "    autodetect=True,\n",
        ")\n",
        "\n",
        "\n",
        "with open(file_path, \"rb\") as source_file:\n",
        "    load_job = bq_client.load_table_from_file(\n",
        "        source_file,\n",
        "        table_id,\n",
        "        job_config=job_config\n",
        "    )\n",
        "\n",
        "load_job.result()\n",
        "print(f\"Table {table_id} loaded successfully!\")\n"
      ],
      "metadata": {
        "id": "zf0Ulyi7Htzx"
      },
      "execution_count": null,
      "outputs": []
    },
    {
      "cell_type": "code",
      "source": [],
      "metadata": {
        "id": "LhnrthDWJEUL"
      },
      "execution_count": null,
      "outputs": []
    }
  ]
}